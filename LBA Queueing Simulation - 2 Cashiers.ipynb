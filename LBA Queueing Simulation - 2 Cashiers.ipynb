{
 "cells": [
  {
   "cell_type": "code",
   "execution_count": 80,
   "metadata": {},
   "outputs": [],
   "source": [
    "import numpy as np\n",
    "\n",
    "# customers\n",
    "class Customer:\n",
    "    \n",
    "    def __init__(self, number, arrival_time, queue_time = 0, service_time = 6):\n",
    "        self.number = number\n",
    "        self.arrival_time = arrival_time\n",
    "        self.queue_time = queue_time\n",
    "        self.service_time = int(np.random.poisson(service_time, 1))\n"
   ]
  },
  {
   "cell_type": "code",
   "execution_count": 81,
   "metadata": {},
   "outputs": [],
   "source": [
    "def simulate(queue_times, service_times, system_times):\n",
    "    t=0\n",
    "    queue = []\n",
    "    tot_arr = 0\n",
    "    show_up= True\n",
    "    customer_number = 1\n",
    "    served_customers = []\n",
    "    \n",
    "    # initialize 3 cashiers\n",
    "    cashier1_available = True\n",
    "    cashier1_time_remaining = 0\n",
    "    cashier2_available = True\n",
    "    cashier2_time_remaining = 0\n",
    "    cashier3_available = True\n",
    "    cashier3_time_remaining = 0\n",
    "\n",
    "    while t < 720: # while store is open (minutes/day)\n",
    "\n",
    "        if show_up == True: # create inter arrival times\n",
    "            at = int(np.random.poisson(3, 1)) + 1\n",
    "            tot_arr += at\n",
    "            show_up = False\n",
    "\n",
    "\n",
    "        if t == tot_arr: # make new customers join the queue\n",
    "            queue.append(Customer(customer_number, at))\n",
    "            show_up = True\n",
    "            customer_number += 1\n",
    "\n",
    "        if cashier1_available and queue: #make queued customer join cashier 1\n",
    "            served_customers.append(queue.pop(0))\n",
    "            cashier1_available = False\n",
    "            cashier1_time_remaining = served_customers[len(served_customers)-1].service_time + 1\n",
    "\n",
    "        cashier1_time_remaining -= 1\n",
    "\n",
    "        if cashier1_time_remaining == 0: #open cashier 1 when customer leaves\n",
    "            cashier1_available = True\n",
    "\n",
    "        if cashier2_available and queue: #make queued customer join cashier 2\n",
    "            served_customers.append(queue.pop(0))\n",
    "            cashier2_available = False\n",
    "            cashier2_time_remaining = served_customers[len(served_customers)-1].service_time + 1\n",
    "\n",
    "        cashier2_time_remaining -= 1\n",
    "\n",
    "        if cashier2_time_remaining == 0: #open cashier 2 when customer leaves\n",
    "            cashier2_available = True\n",
    "        \n",
    "        t += 1\n",
    "\n",
    "        if queue: # add 1 minute waiting time to each customer per loop iteration\n",
    "            for customer in queue:\n",
    "                customer.queue_time += 1\n",
    "\n",
    "    for customer in served_customers: # append all data to analyze later\n",
    "        queue_times.append(customer.queue_time)\n",
    "        service_times.append(customer.service_time)\n",
    "        system_times.append(customer.queue_time + customer.service_time)\n",
    "           "
   ]
  },
  {
   "cell_type": "code",
   "execution_count": 82,
   "metadata": {},
   "outputs": [],
   "source": [
    "queue_times = []\n",
    "service_times = []\n",
    "system_times = []\n",
    "\n",
    "for i in range(1000): # how many times to run simulation\n",
    "    simulate(queue_times, service_times, system_times)"
   ]
  },
  {
   "cell_type": "code",
   "execution_count": 83,
   "metadata": {},
   "outputs": [
    {
     "data": {
      "text/plain": [
       "(array([5.48987431e-01, 1.18072485e-01, 1.11335070e-01, 9.72172523e-02,\n",
       "        0.00000000e+00, 8.07720909e-02, 6.37608190e-02, 4.98876166e-02,\n",
       "        3.87541095e-02, 0.00000000e+00, 3.01785834e-02, 2.30358061e-02,\n",
       "        1.80037126e-02, 1.41597522e-02, 0.00000000e+00, 1.13152215e-02,\n",
       "        8.70831749e-03, 6.88418357e-03, 5.70303938e-03, 0.00000000e+00,\n",
       "        4.81543399e-03, 3.36870709e-03, 2.85151969e-03, 2.43217856e-03,\n",
       "        0.00000000e+00, 1.82413392e-03, 1.41877083e-03, 1.18114419e-03,\n",
       "        1.10426498e-03, 0.00000000e+00, 7.96748149e-04, 7.12879923e-04,\n",
       "        6.42989735e-04, 5.73099546e-04, 0.00000000e+00, 3.56439962e-04,\n",
       "        3.49450943e-04, 1.67736452e-04, 1.39780377e-04, 0.00000000e+00,\n",
       "        1.18813321e-04, 9.78462640e-05, 9.78462640e-05, 7.68792074e-05,\n",
       "        0.00000000e+00, 4.89231320e-05, 1.39780377e-05, 2.09670566e-05,\n",
       "        6.98901885e-06, 6.98901885e-06]),\n",
       " array([ 0. ,  0.8,  1.6,  2.4,  3.2,  4. ,  4.8,  5.6,  6.4,  7.2,  8. ,\n",
       "         8.8,  9.6, 10.4, 11.2, 12. , 12.8, 13.6, 14.4, 15.2, 16. , 16.8,\n",
       "        17.6, 18.4, 19.2, 20. , 20.8, 21.6, 22.4, 23.2, 24. , 24.8, 25.6,\n",
       "        26.4, 27.2, 28. , 28.8, 29.6, 30.4, 31.2, 32. , 32.8, 33.6, 34.4,\n",
       "        35.2, 36. , 36.8, 37.6, 38.4, 39.2, 40. ]),\n",
       " <a list of 50 Patch objects>)"
      ]
     },
     "execution_count": 83,
     "metadata": {},
     "output_type": "execute_result"
    },
    {
     "data": {
      "image/png": "[encoded data removed]",
      "text/plain": [
       "<Figure size 432x288 with 1 Axes>"
      ]
     },
     "metadata": {
      "needs_background": "light"
     },
     "output_type": "display_data"
    }
   ],
   "source": [
    "import matplotlib.pyplot as plt\n",
    "\n",
    "plt.hist(queue_times, bins = 50, density=True)"
   ]
  },
  {
   "cell_type": "code",
   "execution_count": 84,
   "metadata": {},
   "outputs": [
    {
     "data": {
      "text/plain": [
       "(array([6.37398519e-03, 0.00000000e+00, 3.65945027e-02, 0.00000000e+00,\n",
       "        0.00000000e+00, 1.13361886e-01, 0.00000000e+00, 2.21565876e-01,\n",
       "        0.00000000e+00, 0.00000000e+00, 3.37807237e-01, 0.00000000e+00,\n",
       "        3.98751482e-01, 0.00000000e+00, 0.00000000e+00, 4.00428846e-01,\n",
       "        0.00000000e+00, 3.48905799e-01, 0.00000000e+00, 0.00000000e+00,\n",
       "        2.55420683e-01, 0.00000000e+00, 1.71440632e-01, 0.00000000e+00,\n",
       "        0.00000000e+00, 1.02752555e-01, 0.00000000e+00, 5.60798873e-02,\n",
       "        0.00000000e+00, 0.00000000e+00, 2.75507123e-02, 0.00000000e+00,\n",
       "        1.37963232e-02, 0.00000000e+00, 0.00000000e+00, 5.85679780e-03,\n",
       "        0.00000000e+00, 2.15261781e-03, 0.00000000e+00, 0.00000000e+00,\n",
       "        6.98901885e-04, 0.00000000e+00, 2.93538792e-04, 0.00000000e+00,\n",
       "        0.00000000e+00, 1.11824302e-04, 0.00000000e+00, 1.39780377e-05,\n",
       "        0.00000000e+00, 4.19341131e-05]),\n",
       " array([ 0. ,  0.4,  0.8,  1.2,  1.6,  2. ,  2.4,  2.8,  3.2,  3.6,  4. ,\n",
       "         4.4,  4.8,  5.2,  5.6,  6. ,  6.4,  6.8,  7.2,  7.6,  8. ,  8.4,\n",
       "         8.8,  9.2,  9.6, 10. , 10.4, 10.8, 11.2, 11.6, 12. , 12.4, 12.8,\n",
       "        13.2, 13.6, 14. , 14.4, 14.8, 15.2, 15.6, 16. , 16.4, 16.8, 17.2,\n",
       "        17.6, 18. , 18.4, 18.8, 19.2, 19.6, 20. ]),\n",
       " <a list of 50 Patch objects>)"
      ]
     },
     "execution_count": 84,
     "metadata": {},
     "output_type": "execute_result"
    },
    {
     "data": {
      "image/png": "[encoded data removed]",
      "text/plain": [
       "<Figure size 432x288 with 1 Axes>"
      ]
     },
     "metadata": {
      "needs_background": "light"
     },
     "output_type": "display_data"
    }
   ],
   "source": [
    "plt.hist(service_times, bins = 50, density=True)"
   ]
  },
  {
   "cell_type": "code",
   "execution_count": 85,
   "metadata": {},
   "outputs": [
    {
     "data": {
      "text/plain": [
       "(array([1.18658009e-03, 7.44252852e-03, 2.41726865e-02, 4.93020921e-02,\n",
       "        8.07309333e-02, 1.05922464e-01, 1.18943782e-01, 1.22801721e-01,\n",
       "        1.11948551e-01, 0.00000000e+00, 9.68025705e-02, 8.11968679e-02,\n",
       "        6.56719274e-02, 5.28369825e-02, 4.07537455e-02, 3.21494867e-02,\n",
       "        2.51231931e-02, 1.96872896e-02, 1.54876658e-02, 0.00000000e+00,\n",
       "        1.20397498e-02, 9.38702888e-03, 7.50465313e-03, 5.89562568e-03,\n",
       "        4.80223251e-03, 3.67156457e-03, 3.05031845e-03, 2.44770971e-03,\n",
       "        1.85752590e-03, 0.00000000e+00, 1.58417761e-03, 1.30461685e-03,\n",
       "        1.05611840e-03, 7.76557650e-04, 8.13832418e-04, 5.71546431e-04,\n",
       "        5.09421819e-04, 4.10022439e-04, 3.29260444e-04, 0.00000000e+00,\n",
       "        1.98798759e-04, 1.98798759e-04, 1.67736452e-04, 1.11824302e-04,\n",
       "        7.45495344e-05, 3.72747672e-05, 8.07619956e-05, 2.48498448e-05,\n",
       "        3.72747672e-05, 6.21246120e-06]),\n",
       " array([ 0. ,  0.9,  1.8,  2.7,  3.6,  4.5,  5.4,  6.3,  7.2,  8.1,  9. ,\n",
       "         9.9, 10.8, 11.7, 12.6, 13.5, 14.4, 15.3, 16.2, 17.1, 18. , 18.9,\n",
       "        19.8, 20.7, 21.6, 22.5, 23.4, 24.3, 25.2, 26.1, 27. , 27.9, 28.8,\n",
       "        29.7, 30.6, 31.5, 32.4, 33.3, 34.2, 35.1, 36. , 36.9, 37.8, 38.7,\n",
       "        39.6, 40.5, 41.4, 42.3, 43.2, 44.1, 45. ]),\n",
       " <a list of 50 Patch objects>)"
      ]
     },
     "execution_count": 85,
     "metadata": {},
     "output_type": "execute_result"
    },
    {
     "data": {
      "image/png": "[encoded data removed]",
      "text/plain": [
       "<Figure size 432x288 with 1 Axes>"
      ]
     },
     "metadata": {
      "needs_background": "light"
     },
     "output_type": "display_data"
    }
   ],
   "source": [
    "plt.hist(system_times, bins = 50, density=True)"
   ]
  },
  {
   "cell_type": "code",
   "execution_count": 87,
   "metadata": {},
   "outputs": [
    {
     "data": {
      "text/plain": [
       "0.27959430143358754"
      ]
     },
     "execution_count": 87,
     "metadata": {},
     "output_type": "execute_result"
    }
   ],
   "source": [
    "over_time_limit = []\n",
    "for i in system_times:\n",
    "    if i > 10:\n",
    "        over_time_limit.append(i)\n",
    "\n",
    "len(over_time_limit)/len(system_times)"
   ]
  }
 ],
 "metadata": {
  "kernelspec": {
   "display_name": "Python 3",
   "language": "python",
   "name": "python3"
  },
  "language_info": {
   "codemirror_mode": {
    "name": "ipython",
    "version": 3
   },
   "file_extension": ".py",
   "mimetype": "text/x-python",
   "name": "python",
   "nbconvert_exporter": "python",
   "pygments_lexer": "ipython3",
   "version": "3.7.6"
  }
 },
 "nbformat": 4,
 "nbformat_minor": 4
}

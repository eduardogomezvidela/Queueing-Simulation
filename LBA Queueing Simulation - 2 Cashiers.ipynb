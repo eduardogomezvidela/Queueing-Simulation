{
 "cells": [
  {
   "cell_type": "code",
   "execution_count": 2,
   "metadata": {},
   "outputs": [],
   "source": [
    "import numpy as np\n",
    "\n",
    "# customers\n",
    "class Customer:\n",
    "    \n",
    "    def __init__(self, number, arrival_time, queue_time = 0, service_time = 6):\n",
    "        self.number = number\n",
    "        self.arrival_time = arrival_time\n",
    "        self.queue_time = queue_time\n",
    "        self.service_time = int(np.random.poisson(service_time, 1))\n"
   ]
  },
  {
   "cell_type": "code",
   "execution_count": 3,
   "metadata": {},
   "outputs": [],
   "source": [
    "def simulate(queue_times, service_times, system_times):\n",
    "    t=0\n",
    "    queue = []\n",
    "    tot_arr = 0\n",
    "    show_up= True\n",
    "    customer_number = 1\n",
    "    served_customers = []\n",
    "    \n",
    "    # initialize 3 cashiers\n",
    "    cashier1_available = True\n",
    "    cashier1_time_remaining = 0\n",
    "    cashier2_available = True\n",
    "    cashier2_time_remaining = 0\n",
    "    cashier3_available = True\n",
    "    cashier3_time_remaining = 0\n",
    "\n",
    "    while t < 720: # while store is open (minutes/day)\n",
    "\n",
    "        if show_up == True: # create inter arrival times\n",
    "            at = int(np.random.poisson(3, 1)) + 1\n",
    "            tot_arr += at\n",
    "            show_up = False\n",
    "\n",
    "\n",
    "        if t == tot_arr: # make new customers join the queue\n",
    "            queue.append(Customer(customer_number, at))\n",
    "            show_up = True\n",
    "            customer_number += 1\n",
    "\n",
    "        if cashier1_available and queue: #make queued customer join cashier 1\n",
    "            served_customers.append(queue.pop(0))\n",
    "            cashier1_available = False\n",
    "            cashier1_time_remaining = served_customers[len(served_customers)-1].service_time + 1\n",
    "\n",
    "        cashier1_time_remaining -= 1\n",
    "\n",
    "        if cashier1_time_remaining == 0: #open cashier 1 when customer leaves\n",
    "            cashier1_available = True\n",
    "\n",
    "        if cashier2_available and queue: #make queued customer join cashier 2\n",
    "            served_customers.append(queue.pop(0))\n",
    "            cashier2_available = False\n",
    "            cashier2_time_remaining = served_customers[len(served_customers)-1].service_time + 1\n",
    "\n",
    "        cashier2_time_remaining -= 1\n",
    "\n",
    "        if cashier2_time_remaining == 0: #open cashier 2 when customer leaves\n",
    "            cashier2_available = True\n",
    "        \n",
    "        t += 1\n",
    "\n",
    "        if queue: # add 1 minute waiting time to each customer per loop iteration\n",
    "            for customer in queue:\n",
    "                customer.queue_time += 1\n",
    "\n",
    "    for customer in served_customers: # append all data to analyze later\n",
    "        queue_times.append(customer.queue_time)\n",
    "        service_times.append(customer.service_time)\n",
    "        system_times.append(customer.queue_time + customer.service_time)\n",
    "           "
   ]
  },
  {
   "cell_type": "code",
   "execution_count": 4,
   "metadata": {},
   "outputs": [],
   "source": [
    "queue_times = []\n",
    "service_times = []\n",
    "system_times = []\n",
    "\n",
    "for i in range(1000): # how many times to run simulation\n",
    "    simulate(queue_times, service_times, system_times)"
   ]
  },
  {
   "cell_type": "code",
   "execution_count": 13,
   "metadata": {},
   "outputs": [
    {
     "data": {
      "text/plain": [
       "(0, 180000)"
      ]
     },
     "execution_count": 13,
     "metadata": {},
     "output_type": "execute_result"
    },
    {
     "data": {
      "image/png": "[encoded data removed]",
      "text/plain": [
       "<Figure size 432x288 with 1 Axes>"
      ]
     },
     "metadata": {
      "needs_background": "light"
     },
     "output_type": "display_data"
    }
   ],
   "source": [
    "import matplotlib.pyplot as plt\n",
    "\n",
    "plt.hist(queue_times, bins = 20)\n",
    "\n",
    "# Add title and axis names\n",
    "plt.title('2 Cashiers Queue Time Distribution')\n",
    "plt.xlabel('Minutes')\n",
    "plt.ylabel('Frequency')\n",
    "\n",
    "# Limits for the X axis\n",
    "plt.xlim(0,30)\n",
    "plt.ylim(0,180000)"
   ]
  },
  {
   "cell_type": "code",
   "execution_count": 84,
   "metadata": {},
   "outputs": [
    {
     "data": {
      "text/plain": [
       "(array([6.37398519e-03, 0.00000000e+00, 3.65945027e-02, 0.00000000e+00,\n",
       "        0.00000000e+00, 1.13361886e-01, 0.00000000e+00, 2.21565876e-01,\n",
       "        0.00000000e+00, 0.00000000e+00, 3.37807237e-01, 0.00000000e+00,\n",
       "        3.98751482e-01, 0.00000000e+00, 0.00000000e+00, 4.00428846e-01,\n",
       "        0.00000000e+00, 3.48905799e-01, 0.00000000e+00, 0.00000000e+00,\n",
       "        2.55420683e-01, 0.00000000e+00, 1.71440632e-01, 0.00000000e+00,\n",
       "        0.00000000e+00, 1.02752555e-01, 0.00000000e+00, 5.60798873e-02,\n",
       "        0.00000000e+00, 0.00000000e+00, 2.75507123e-02, 0.00000000e+00,\n",
       "        1.37963232e-02, 0.00000000e+00, 0.00000000e+00, 5.85679780e-03,\n",
       "        0.00000000e+00, 2.15261781e-03, 0.00000000e+00, 0.00000000e+00,\n",
       "        6.98901885e-04, 0.00000000e+00, 2.93538792e-04, 0.00000000e+00,\n",
       "        0.00000000e+00, 1.11824302e-04, 0.00000000e+00, 1.39780377e-05,\n",
       "        0.00000000e+00, 4.19341131e-05]),\n",
       " array([ 0. ,  0.4,  0.8,  1.2,  1.6,  2. ,  2.4,  2.8,  3.2,  3.6,  4. ,\n",
       "         4.4,  4.8,  5.2,  5.6,  6. ,  6.4,  6.8,  7.2,  7.6,  8. ,  8.4,\n",
       "         8.8,  9.2,  9.6, 10. , 10.4, 10.8, 11.2, 11.6, 12. , 12.4, 12.8,\n",
       "        13.2, 13.6, 14. , 14.4, 14.8, 15.2, 15.6, 16. , 16.4, 16.8, 17.2,\n",
       "        17.6, 18. , 18.4, 18.8, 19.2, 19.6, 20. ]),\n",
       " <a list of 50 Patch objects>)"
      ]
     },
     "execution_count": 84,
     "metadata": {},
     "output_type": "execute_result"
    },
    {
     "data": {
      "image/png": "[encoded data removed]",
      "text/plain": [
       "<Figure size 432x288 with 1 Axes>"
      ]
     },
     "metadata": {
      "needs_background": "light"
     },
     "output_type": "display_data"
    }
   ],
   "source": [
    "plt.hist(service_times, bins = 50, density=True)"
   ]
  },
  {
   "cell_type": "code",
   "execution_count": 27,
   "metadata": {},
   "outputs": [
    {
     "data": {
      "text/plain": [
       "(0, 30000)"
      ]
     },
     "execution_count": 27,
     "metadata": {},
     "output_type": "execute_result"
    },
    {
     "data": {
      "image/png": "[encoded data removed]",
      "text/plain": [
       "<Figure size 432x288 with 1 Axes>"
      ]
     },
     "metadata": {
      "needs_background": "light"
     },
     "output_type": "display_data"
    }
   ],
   "source": [
    "plt.hist(system_times, bins = 50)\n",
    "\n",
    "# Add title and axis names\n",
    "plt.title('2 Cashiers System Time Distribution')\n",
    "plt.xlabel('Minutes')\n",
    "plt.ylabel('Frequency')\n",
    "\n",
    "# Limits for the X axis\n",
    "plt.xlim(0,40)\n",
    "plt.ylim(0, 30000)"
   ]
  },
  {
   "cell_type": "code",
   "execution_count": 87,
   "metadata": {},
   "outputs": [
    {
     "data": {
      "text/plain": [
       "0.27959430143358754"
      ]
     },
     "execution_count": 87,
     "metadata": {},
     "output_type": "execute_result"
    }
   ],
   "source": [
    "over_time_limit = []\n",
    "for i in system_times:\n",
    "    if i > 10:\n",
    "        over_time_limit.append(i)\n",
    "\n",
    "len(over_time_limit)/len(system_times)"
   ]
  }
 ],
 "metadata": {
  "kernelspec": {
   "display_name": "Python 3",
   "language": "python",
   "name": "python3"
  },
  "language_info": {
   "codemirror_mode": {
    "name": "ipython",
    "version": 3
   },
   "file_extension": ".py",
   "mimetype": "text/x-python",
   "name": "python",
   "nbconvert_exporter": "python",
   "pygments_lexer": "ipython3",
   "version": "3.7.6"
  }
 },
 "nbformat": 4,
 "nbformat_minor": 4
}

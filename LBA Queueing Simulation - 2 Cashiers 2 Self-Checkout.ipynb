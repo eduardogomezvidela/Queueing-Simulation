{
 "cells": [
  {
   "cell_type": "code",
   "execution_count": 48,
   "metadata": {},
   "outputs": [],
   "source": [
    "import numpy as np\n",
    "import random\n",
    "\n",
    "# customers\n",
    "class Customer:\n",
    "    \n",
    "    def __init__(self, number, arrival_time, queue_time = 0, service_time = 6, auto_service = False):\n",
    "        self.number = number\n",
    "        self.arrival_time = arrival_time\n",
    "        self.queue_time = queue_time\n",
    "        self.service_time = int(np.random.poisson(service_time, 1))\n",
    "        if(random.randint(1,101) < 26):\n",
    "            self.auto_service = True\n",
    "            self.service_time = int(np.random.poisson(3, 1))\n",
    "            \n"
   ]
  },
  {
   "cell_type": "code",
   "execution_count": 49,
   "metadata": {},
   "outputs": [],
   "source": [
    "def simulate(queue_times, service_times, system_times):\n",
    "    t=0\n",
    "    queue = []\n",
    "    tot_arr = 0\n",
    "    show_up= True\n",
    "    customer_number = 1\n",
    "    served_customers = []\n",
    "    \n",
    "    # initialize servers\n",
    "    cashier1_available = True\n",
    "    cashier1_time_remaining = 0\n",
    "    cashier2_available = True\n",
    "    cashier2_time_remaining = 0\n",
    "    self1_available = True\n",
    "    self1_time_remaining = 0\n",
    "    self2_available = True\n",
    "    self2_time_remaining = 0\n",
    "\n",
    "\n",
    "    while t < 720: # while store is open (minutes/day)\n",
    "\n",
    "        if show_up == True: # create inter arrival times\n",
    "            at = int(np.random.poisson(3, 1)) + 1\n",
    "            tot_arr += at\n",
    "            show_up = False\n",
    "\n",
    "\n",
    "        if t == tot_arr: # make new customers join the queue\n",
    "            queue.append(Customer(customer_number, at))\n",
    "            show_up = True\n",
    "            customer_number += 1\n",
    "\n",
    "        # Cashiers\n",
    "            \n",
    "        if cashier1_available and queue: #make queued customer join cashier 1\n",
    "            served_customers.append(queue.pop(0))\n",
    "            cashier1_available = False\n",
    "            cashier1_time_remaining = served_customers[len(served_customers)-1].service_time + 1\n",
    "\n",
    "        cashier1_time_remaining -= 1\n",
    "\n",
    "        if cashier1_time_remaining == 0: #open cashier 1 when customer leaves\n",
    "            cashier1_available = True\n",
    "\n",
    "        if cashier2_available and queue: #make queued customer join cashier 2\n",
    "            served_customers.append(queue.pop(0))\n",
    "            cashier2_available = False\n",
    "            cashier2_time_remaining = served_customers[len(served_customers)-1].service_time + 1\n",
    "\n",
    "        cashier2_time_remaining -= 1\n",
    "\n",
    "        if cashier2_time_remaining == 0: #open cashier 2 when customer leaves\n",
    "            cashier2_available = True\n",
    "        \n",
    "        # Self Checkouts\n",
    "        \n",
    "        self1_auto_candidate = 0\n",
    "\n",
    "        for customer in queue:\n",
    "            \n",
    "            if self1_available and queue and auto_service: #make queued customer join self 1\n",
    "                served_customers.append(queue.pop(self1_auto_candidate))\n",
    "                self1_available = False\n",
    "                self1_time_remaining = served_customers[len(served_customers)-1].service_time + 1\n",
    "                \n",
    "            self1_auto_candidate += 1\n",
    "\n",
    "        self1_time_remaining -= 1\n",
    "\n",
    "        if self1_time_remaining == 0: #open self 1 when customer leaves\n",
    "                self1_available = True\n",
    "        \n",
    "        self2_auto_candidate = 0\n",
    "\n",
    "        for customer in queue:\n",
    "            \n",
    "            if self2_available and queue and auto_service: #make queued customer join self 2\n",
    "                served_customers.append(queue.pop(self2_auto_candidate))\n",
    "                self2_available = False\n",
    "                self2_time_remaining = served_customers[len(served_customers)-1].service_time + 1\n",
    "                \n",
    "            self2_auto_candidate += 1\n",
    "\n",
    "        self2_time_remaining -= 1\n",
    "\n",
    "        if self2_time_remaining == 0: #open self 2 when customer leaves\n",
    "                self2_available = True\n",
    "        \n",
    "        t += 1\n",
    "\n",
    "        if queue: # add 1 minute waiting time to each customer per loop iteration\n",
    "            for customer in queue:\n",
    "                customer.queue_time += 1\n",
    "\n",
    "    for customer in served_customers: # append all data to analyze later\n",
    "        queue_times.append(customer.queue_time)\n",
    "        service_times.append(customer.service_time)\n",
    "        system_times.append(customer.queue_time + customer.service_time)\n",
    "           "
   ]
  },
  {
   "cell_type": "code",
   "execution_count": 50,
   "metadata": {},
   "outputs": [],
   "source": [
    "queue_times = []\n",
    "service_times = []\n",
    "system_times = []\n",
    "auto_service = []\n",
    "\n",
    "for i in range(1000): # how many times to run simulation\n",
    "    simulate(queue_times, service_times, system_times)"
   ]
  },
  {
   "cell_type": "code",
   "execution_count": 61,
   "metadata": {},
   "outputs": [
    {
     "data": {
      "text/plain": [
       "(0, 180000)"
      ]
     },
     "execution_count": 61,
     "metadata": {},
     "output_type": "execute_result"
    },
    {
     "data": {
      "image/png": "[encoded data removed]",
      "text/plain": [
       "<Figure size 432x288 with 1 Axes>"
      ]
     },
     "metadata": {
      "needs_background": "light"
     },
     "output_type": "display_data"
    }
   ],
   "source": [
    "import matplotlib.pyplot as plt\n",
    "\n",
    "plt.hist(queue_times, bins = 20)\n",
    "\n",
    "# Add title and axis names\n",
    "plt.title('2 Cashiers & 2 Self Checkouts Queue Time Distribution')\n",
    "plt.xlabel('Minutes')\n",
    "plt.ylabel('Frequency')\n",
    "\n",
    "# Limits for the X axis\n",
    "plt.xlim(0,30)\n",
    "plt.ylim(0,180000)"
   ]
  },
  {
   "cell_type": "code",
   "execution_count": 56,
   "metadata": {},
   "outputs": [
    {
     "data": {
      "text/plain": [
       "(array([3.76338714e-02, 0.00000000e+00, 1.27611300e-01, 0.00000000e+00,\n",
       "        0.00000000e+00, 2.32768654e-01, 0.00000000e+00, 3.23789427e-01,\n",
       "        0.00000000e+00, 0.00000000e+00, 3.71621622e-01, 0.00000000e+00,\n",
       "        0.00000000e+00, 3.85478998e-01, 0.00000000e+00, 3.49197066e-01,\n",
       "        0.00000000e+00, 0.00000000e+00, 2.87110730e-01, 0.00000000e+00,\n",
       "        0.00000000e+00, 2.10388183e-01, 0.00000000e+00, 1.39352597e-01,\n",
       "        0.00000000e+00, 0.00000000e+00, 8.19245736e-02, 0.00000000e+00,\n",
       "        4.43788721e-02, 0.00000000e+00, 0.00000000e+00, 2.28507106e-02,\n",
       "        0.00000000e+00, 0.00000000e+00, 1.02424086e-02, 0.00000000e+00,\n",
       "        4.62892209e-03, 0.00000000e+00, 0.00000000e+00, 1.63114398e-03,\n",
       "        0.00000000e+00, 0.00000000e+00, 6.17189612e-04, 0.00000000e+00,\n",
       "        2.35119852e-04, 0.00000000e+00, 0.00000000e+00, 8.81699446e-05,\n",
       "        0.00000000e+00, 2.93899815e-05]),\n",
       " array([ 0.  ,  0.38,  0.76,  1.14,  1.52,  1.9 ,  2.28,  2.66,  3.04,\n",
       "         3.42,  3.8 ,  4.18,  4.56,  4.94,  5.32,  5.7 ,  6.08,  6.46,\n",
       "         6.84,  7.22,  7.6 ,  7.98,  8.36,  8.74,  9.12,  9.5 ,  9.88,\n",
       "        10.26, 10.64, 11.02, 11.4 , 11.78, 12.16, 12.54, 12.92, 13.3 ,\n",
       "        13.68, 14.06, 14.44, 14.82, 15.2 , 15.58, 15.96, 16.34, 16.72,\n",
       "        17.1 , 17.48, 17.86, 18.24, 18.62, 19.  ]),\n",
       " <a list of 50 Patch objects>)"
      ]
     },
     "execution_count": 56,
     "metadata": {},
     "output_type": "execute_result"
    },
    {
     "data": {
      "image/png": "[encoded data removed]",
      "text/plain": [
       "<Figure size 432x288 with 1 Axes>"
      ]
     },
     "metadata": {
      "needs_background": "light"
     },
     "output_type": "display_data"
    }
   ],
   "source": [
    "plt.hist(service_times, bins = 50, density=True)"
   ]
  },
  {
   "cell_type": "code",
   "execution_count": 68,
   "metadata": {},
   "outputs": [
    {
     "data": {
      "text/plain": [
       "(0, 30000)"
      ]
     },
     "execution_count": 68,
     "metadata": {},
     "output_type": "execute_result"
    },
    {
     "data": {
      "image/png": "[encoded data removed]",
      "text/plain": [
       "<Figure size 432x288 with 1 Axes>"
      ]
     },
     "metadata": {
      "needs_background": "light"
     },
     "output_type": "display_data"
    }
   ],
   "source": [
    "plt.hist(system_times, bins = 38)\n",
    "\n",
    "# Add title and axis names\n",
    "plt.title('2 Cashiers & 2 Self Checkouts System Time Distribution')\n",
    "plt.xlabel('Minutes')\n",
    "plt.ylabel('Frequency')\n",
    "\n",
    "# Limits for the X axis\n",
    "plt.xlim(0,40)\n",
    "plt.ylim(0, 30000)"
   ]
  },
  {
   "cell_type": "code",
   "execution_count": 54,
   "metadata": {},
   "outputs": [
    {
     "data": {
      "text/plain": [
       "0.12490507035961582"
      ]
     },
     "execution_count": 54,
     "metadata": {},
     "output_type": "execute_result"
    }
   ],
   "source": [
    "over_time_limit = []\n",
    "for i in system_times:\n",
    "    if i > 10:\n",
    "        over_time_limit.append(i)\n",
    "\n",
    "len(over_time_limit)/len(system_times)"
   ]
  }
 ],
 "metadata": {
  "kernelspec": {
   "display_name": "Python 3",
   "language": "python",
   "name": "python3"
  },
  "language_info": {
   "codemirror_mode": {
    "name": "ipython",
    "version": 3
   },
   "file_extension": ".py",
   "mimetype": "text/x-python",
   "name": "python",
   "nbconvert_exporter": "python",
   "pygments_lexer": "ipython3",
   "version": "3.7.6"
  }
 },
 "nbformat": 4,
 "nbformat_minor": 4
}

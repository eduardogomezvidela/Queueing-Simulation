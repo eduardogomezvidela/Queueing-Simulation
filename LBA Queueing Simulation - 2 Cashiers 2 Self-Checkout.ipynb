{
 "cells": [
  {
   "cell_type": "code",
   "execution_count": 48,
   "metadata": {},
   "outputs": [],
   "source": [
    "import numpy as np\n",
    "import random\n",
    "\n",
    "# customers\n",
    "class Customer:\n",
    "    \n",
    "    def __init__(self, number, arrival_time, queue_time = 0, service_time = 6, auto_service = False):\n",
    "        self.number = number\n",
    "        self.arrival_time = arrival_time\n",
    "        self.queue_time = queue_time\n",
    "        self.service_time = int(np.random.poisson(service_time, 1))\n",
    "        if(random.randint(1,101) < 26):\n",
    "            self.auto_service = True\n",
    "            self.service_time = int(np.random.poisson(3, 1))\n",
    "            \n"
   ]
  },
  {
   "cell_type": "code",
   "execution_count": 49,
   "metadata": {},
   "outputs": [],
   "source": [
    "def simulate(queue_times, service_times, system_times):\n",
    "    t=0\n",
    "    queue = []\n",
    "    tot_arr = 0\n",
    "    show_up= True\n",
    "    customer_number = 1\n",
    "    served_customers = []\n",
    "    \n",
    "    # initialize servers\n",
    "    cashier1_available = True\n",
    "    cashier1_time_remaining = 0\n",
    "    cashier2_available = True\n",
    "    cashier2_time_remaining = 0\n",
    "    self1_available = True\n",
    "    self1_time_remaining = 0\n",
    "    self2_available = True\n",
    "    self2_time_remaining = 0\n",
    "\n",
    "\n",
    "    while t < 720: # while store is open (minutes/day)\n",
    "\n",
    "        if show_up == True: # create inter arrival times\n",
    "            at = int(np.random.poisson(3, 1)) + 1\n",
    "            tot_arr += at\n",
    "            show_up = False\n",
    "\n",
    "\n",
    "        if t == tot_arr: # make new customers join the queue\n",
    "            queue.append(Customer(customer_number, at))\n",
    "            show_up = True\n",
    "            customer_number += 1\n",
    "\n",
    "        # Cashiers\n",
    "            \n",
    "        if cashier1_available and queue: #make queued customer join cashier 1\n",
    "            served_customers.append(queue.pop(0))\n",
    "            cashier1_available = False\n",
    "            cashier1_time_remaining = served_customers[len(served_customers)-1].service_time + 1\n",
    "\n",
    "        cashier1_time_remaining -= 1\n",
    "\n",
    "        if cashier1_time_remaining == 0: #open cashier 1 when customer leaves\n",
    "            cashier1_available = True\n",
    "\n",
    "        if cashier2_available and queue: #make queued customer join cashier 2\n",
    "            served_customers.append(queue.pop(0))\n",
    "            cashier2_available = False\n",
    "            cashier2_time_remaining = served_customers[len(served_customers)-1].service_time + 1\n",
    "\n",
    "        cashier2_time_remaining -= 1\n",
    "\n",
    "        if cashier2_time_remaining == 0: #open cashier 2 when customer leaves\n",
    "            cashier2_available = True\n",
    "        \n",
    "        # Self Checkouts\n",
    "        \n",
    "        self1_auto_candidate = 0\n",
    "\n",
    "        for customer in queue:\n",
    "            \n",
    "            if self1_available and queue and auto_service: #make queued customer join self 1\n",
    "                served_customers.append(queue.pop(self1_auto_candidate))\n",
    "                self1_available = False\n",
    "                self1_time_remaining = served_customers[len(served_customers)-1].service_time + 1\n",
    "                \n",
    "            self1_auto_candidate += 1\n",
    "\n",
    "        self1_time_remaining -= 1\n",
    "\n",
    "        if self1_time_remaining == 0: #open self 1 when customer leaves\n",
    "                self1_available = True\n",
    "        \n",
    "        self2_auto_candidate = 0\n",
    "\n",
    "        for customer in queue:\n",
    "            \n",
    "            if self2_available and queue and auto_service: #make queued customer join self 2\n",
    "                served_customers.append(queue.pop(self2_auto_candidate))\n",
    "                self2_available = False\n",
    "                self2_time_remaining = served_customers[len(served_customers)-1].service_time + 1\n",
    "                \n",
    "            self2_auto_candidate += 1\n",
    "\n",
    "        self2_time_remaining -= 1\n",
    "\n",
    "        if self2_time_remaining == 0: #open self 2 when customer leaves\n",
    "                self2_available = True\n",
    "        \n",
    "        t += 1\n",
    "\n",
    "        if queue: # add 1 minute waiting time to each customer per loop iteration\n",
    "            for customer in queue:\n",
    "                customer.queue_time += 1\n",
    "\n",
    "    for customer in served_customers: # append all data to analyze later\n",
    "        queue_times.append(customer.queue_time)\n",
    "        service_times.append(customer.service_time)\n",
    "        system_times.append(customer.queue_time + customer.service_time)\n",
    "           "
   ]
  },
  {
   "cell_type": "code",
   "execution_count": 50,
   "metadata": {},
   "outputs": [],
   "source": [
    "queue_times = []\n",
    "service_times = []\n",
    "system_times = []\n",
    "auto_service = []\n",
    "\n",
    "for i in range(1000): # how many times to run simulation\n",
    "    simulate(queue_times, service_times, system_times)"
   ]
  },
  {
   "cell_type": "code",
   "execution_count": 51,
   "metadata": {},
   "outputs": [
    {
     "data": {
      "text/plain": [
       "(array([1.07550661e+00, 1.65809155e-01, 0.00000000e+00, 1.37070313e-01,\n",
       "        0.00000000e+00, 1.05924534e-01, 7.56067410e-02, 0.00000000e+00,\n",
       "        5.33666325e-02, 0.00000000e+00, 3.54686405e-02, 0.00000000e+00,\n",
       "        2.49551347e-02, 1.65212234e-02, 0.00000000e+00, 1.12837260e-02,\n",
       "        0.00000000e+00, 7.26895319e-03, 4.80424853e-03, 0.00000000e+00,\n",
       "        3.46599093e-03, 0.00000000e+00, 2.49358792e-03, 0.00000000e+00,\n",
       "        1.55969592e-03, 8.95380989e-04, 0.00000000e+00, 7.60592453e-04,\n",
       "        0.00000000e+00, 3.75482350e-04, 0.00000000e+00, 4.04365608e-04,\n",
       "        1.15533031e-04, 0.00000000e+00, 1.05905278e-04, 0.00000000e+00,\n",
       "        1.05905278e-04, 6.73942680e-05, 0.00000000e+00, 3.85110103e-05,\n",
       "        0.00000000e+00, 3.85110103e-05, 0.00000000e+00, 4.81387629e-05,\n",
       "        3.85110103e-05, 0.00000000e+00, 1.92555051e-05, 0.00000000e+00,\n",
       "        0.00000000e+00, 1.92555051e-05]),\n",
       " array([ 0.  ,  0.58,  1.16,  1.74,  2.32,  2.9 ,  3.48,  4.06,  4.64,\n",
       "         5.22,  5.8 ,  6.38,  6.96,  7.54,  8.12,  8.7 ,  9.28,  9.86,\n",
       "        10.44, 11.02, 11.6 , 12.18, 12.76, 13.34, 13.92, 14.5 , 15.08,\n",
       "        15.66, 16.24, 16.82, 17.4 , 17.98, 18.56, 19.14, 19.72, 20.3 ,\n",
       "        20.88, 21.46, 22.04, 22.62, 23.2 , 23.78, 24.36, 24.94, 25.52,\n",
       "        26.1 , 26.68, 27.26, 27.84, 28.42, 29.  ]),\n",
       " <a list of 50 Patch objects>)"
      ]
     },
     "execution_count": 51,
     "metadata": {},
     "output_type": "execute_result"
    },
    {
     "data": {
      "image/png": "[encoded data removed]",
      "text/plain": [
       "<Figure size 432x288 with 1 Axes>"
      ]
     },
     "metadata": {
      "needs_background": "light"
     },
     "output_type": "display_data"
    }
   ],
   "source": [
    "import matplotlib.pyplot as plt\n",
    "\n",
    "plt.hist(queue_times, bins = 50, density=True)"
   ]
  },
  {
   "cell_type": "code",
   "execution_count": 52,
   "metadata": {},
   "outputs": [
    {
     "data": {
      "text/plain": [
       "(array([3.76338714e-02, 0.00000000e+00, 1.27611300e-01, 0.00000000e+00,\n",
       "        0.00000000e+00, 2.32768654e-01, 0.00000000e+00, 3.23789427e-01,\n",
       "        0.00000000e+00, 0.00000000e+00, 3.71621622e-01, 0.00000000e+00,\n",
       "        0.00000000e+00, 3.85478998e-01, 0.00000000e+00, 3.49197066e-01,\n",
       "        0.00000000e+00, 0.00000000e+00, 2.87110730e-01, 0.00000000e+00,\n",
       "        0.00000000e+00, 2.10388183e-01, 0.00000000e+00, 1.39352597e-01,\n",
       "        0.00000000e+00, 0.00000000e+00, 8.19245736e-02, 0.00000000e+00,\n",
       "        4.43788721e-02, 0.00000000e+00, 0.00000000e+00, 2.28507106e-02,\n",
       "        0.00000000e+00, 0.00000000e+00, 1.02424086e-02, 0.00000000e+00,\n",
       "        4.62892209e-03, 0.00000000e+00, 0.00000000e+00, 1.63114398e-03,\n",
       "        0.00000000e+00, 0.00000000e+00, 6.17189612e-04, 0.00000000e+00,\n",
       "        2.35119852e-04, 0.00000000e+00, 0.00000000e+00, 8.81699446e-05,\n",
       "        0.00000000e+00, 2.93899815e-05]),\n",
       " array([ 0.  ,  0.38,  0.76,  1.14,  1.52,  1.9 ,  2.28,  2.66,  3.04,\n",
       "         3.42,  3.8 ,  4.18,  4.56,  4.94,  5.32,  5.7 ,  6.08,  6.46,\n",
       "         6.84,  7.22,  7.6 ,  7.98,  8.36,  8.74,  9.12,  9.5 ,  9.88,\n",
       "        10.26, 10.64, 11.02, 11.4 , 11.78, 12.16, 12.54, 12.92, 13.3 ,\n",
       "        13.68, 14.06, 14.44, 14.82, 15.2 , 15.58, 15.96, 16.34, 16.72,\n",
       "        17.1 , 17.48, 17.86, 18.24, 18.62, 19.  ]),\n",
       " <a list of 50 Patch objects>)"
      ]
     },
     "execution_count": 52,
     "metadata": {},
     "output_type": "execute_result"
    },
    {
     "data": {
      "image/png": "[encoded data removed]",
      "text/plain": [
       "<Figure size 432x288 with 1 Axes>"
      ]
     },
     "metadata": {
      "needs_background": "light"
     },
     "output_type": "display_data"
    }
   ],
   "source": [
    "plt.hist(service_times, bins = 50, density=True)"
   ]
  },
  {
   "cell_type": "code",
   "execution_count": 53,
   "metadata": {},
   "outputs": [
    {
     "data": {
      "text/plain": [
       "(array([1.24246147e-02, 4.33930832e-02, 8.43896583e-02, 0.00000000e+00,\n",
       "        1.25169074e-01, 1.53919415e-01, 1.71284404e-01, 0.00000000e+00,\n",
       "        1.68562157e-01, 1.53942682e-01, 0.00000000e+00, 1.27961122e-01,\n",
       "        1.00537004e-01, 7.38264091e-02, 0.00000000e+00, 5.42665599e-02,\n",
       "        3.76926513e-02, 0.00000000e+00, 2.65322140e-02, 1.77915519e-02,\n",
       "        1.22772566e-02, 0.00000000e+00, 8.12796267e-03, 4.94812995e-03,\n",
       "        0.00000000e+00, 3.80028789e-03, 2.76102549e-03, 1.72176309e-03,\n",
       "        0.00000000e+00, 1.16335344e-03, 8.37614474e-04, 5.19631201e-04,\n",
       "        0.00000000e+00, 3.41250341e-04, 1.93892239e-04, 0.00000000e+00,\n",
       "        1.24091033e-04, 1.16335344e-04, 6.98012062e-05, 0.00000000e+00,\n",
       "        3.10227583e-05, 4.65341374e-05, 0.00000000e+00, 1.55113791e-05,\n",
       "        3.87784479e-05, 1.55113791e-05, 0.00000000e+00, 2.32670687e-05,\n",
       "        7.75568957e-06, 1.55113791e-05]),\n",
       " array([ 0.  ,  0.72,  1.44,  2.16,  2.88,  3.6 ,  4.32,  5.04,  5.76,\n",
       "         6.48,  7.2 ,  7.92,  8.64,  9.36, 10.08, 10.8 , 11.52, 12.24,\n",
       "        12.96, 13.68, 14.4 , 15.12, 15.84, 16.56, 17.28, 18.  , 18.72,\n",
       "        19.44, 20.16, 20.88, 21.6 , 22.32, 23.04, 23.76, 24.48, 25.2 ,\n",
       "        25.92, 26.64, 27.36, 28.08, 28.8 , 29.52, 30.24, 30.96, 31.68,\n",
       "        32.4 , 33.12, 33.84, 34.56, 35.28, 36.  ]),\n",
       " <a list of 50 Patch objects>)"
      ]
     },
     "execution_count": 53,
     "metadata": {},
     "output_type": "execute_result"
    },
    {
     "data": {
      "image/png": "[encoded data removed]",
      "text/plain": [
       "<Figure size 432x288 with 1 Axes>"
      ]
     },
     "metadata": {
      "needs_background": "light"
     },
     "output_type": "display_data"
    }
   ],
   "source": [
    "plt.hist(system_times, bins = 50, density=True)"
   ]
  },
  {
   "cell_type": "code",
   "execution_count": 54,
   "metadata": {},
   "outputs": [
    {
     "data": {
      "text/plain": [
       "0.12490507035961582"
      ]
     },
     "execution_count": 54,
     "metadata": {},
     "output_type": "execute_result"
    }
   ],
   "source": [
    "over_time_limit = []\n",
    "for i in system_times:\n",
    "    if i > 10:\n",
    "        over_time_limit.append(i)\n",
    "\n",
    "len(over_time_limit)/len(system_times)"
   ]
  }
 ],
 "metadata": {
  "kernelspec": {
   "display_name": "Python 3",
   "language": "python",
   "name": "python3"
  },
  "language_info": {
   "codemirror_mode": {
    "name": "ipython",
    "version": 3
   },
   "file_extension": ".py",
   "mimetype": "text/x-python",
   "name": "python",
   "nbconvert_exporter": "python",
   "pygments_lexer": "ipython3",
   "version": "3.7.6"
  }
 },
 "nbformat": 4,
 "nbformat_minor": 4
}

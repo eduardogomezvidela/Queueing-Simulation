{
 "cells": [
  {
   "cell_type": "code",
   "execution_count": 331,
   "metadata": {},
   "outputs": [],
   "source": [
    "import numpy as np\n",
    "\n",
    "# customers\n",
    "class Customer:\n",
    "    \n",
    "    def __init__(self, number, arrival_time, queue_time = 0, service_time = 5):\n",
    "        self.number = number\n",
    "        self.arrival_time = arrival_time\n",
    "        self.queue_time = queue_time\n",
    "        self.service_time = int(np.random.poisson(service_time, 1))\n"
   ]
  },
  {
   "cell_type": "code",
   "execution_count": 332,
   "metadata": {},
   "outputs": [],
   "source": [
    "def simulate(queue_times, service_times, system_times):\n",
    "    t=0\n",
    "    queue = []\n",
    "    tot_arr = 0\n",
    "    show_up= True\n",
    "    customer_number = 1\n",
    "    served_customers = []\n",
    "    service_available = True\n",
    "    service_time_remaining = 0\n",
    "\n",
    "    while t < 720: # while store is open (minutes/day)\n",
    "\n",
    "        if show_up == True: # create inter arrival times\n",
    "            at = int(np.random.poisson(3, 1)) + 1\n",
    "            tot_arr += at\n",
    "            show_up = False\n",
    "\n",
    "\n",
    "        if t == tot_arr: # make new customers join the queue\n",
    "            queue.append(Customer(customer_number, at))\n",
    "            show_up = True\n",
    "            customer_number += 1\n",
    "\n",
    "        if service_available and queue: #make queued customer join cashier\n",
    "            served_customers.append(queue.pop(0))\n",
    "            service_available = False\n",
    "            service_time_remaining = served_customers[len(served_customers)-1].service_time + 1\n",
    "\n",
    "        service_time_remaining -= 1\n",
    "\n",
    "        if service_time_remaining == 0: #open cashier when customer leaves\n",
    "            service_available = True\n",
    "\n",
    "\n",
    "        t += 1\n",
    "\n",
    "        if queue: # add 1 minute waiting time to each customer per loop iteration\n",
    "            for customer in queue:\n",
    "                customer.queue_time += 1\n",
    "\n",
    "    for customer in served_customers: # append all data to analyze later\n",
    "        queue_times.append(customer.queue_time)\n",
    "        service_times.append(customer.service_time)\n",
    "        system_times.append(customer.queue_time + customer.service_time)\n",
    "           "
   ]
  },
  {
   "cell_type": "code",
   "execution_count": 333,
   "metadata": {},
   "outputs": [],
   "source": [
    "queue_times = []\n",
    "service_times = []\n",
    "system_times = []\n",
    "\n",
    "for i in range(1000):\n",
    "    simulate(queue_times, service_times, system_times)"
   ]
  },
  {
   "cell_type": "code",
   "execution_count": 334,
   "metadata": {},
   "outputs": [
    {
     "data": {
      "text/plain": [
       "(array([0.00452659, 0.00437571, 0.00437571, 0.00271596, 0.00799698,\n",
       "        0.00467748, 0.00407393, 0.00377216, 0.00452659, 0.00241418,\n",
       "        0.00482837, 0.00467748, 0.00603546, 0.00362127, 0.00301773,\n",
       "        0.00256507, 0.00422482, 0.00452659, 0.00497925, 0.0033195 ,\n",
       "        0.00316862, 0.00437571, 0.00316862, 0.00362127, 0.00422482,\n",
       "        0.00392305, 0.00286684, 0.00301773, 0.00437571, 0.00316862,\n",
       "        0.00452659, 0.00392305, 0.00452659, 0.00437571, 0.00573369,\n",
       "        0.00633723, 0.00407393, 0.00513014, 0.00467748, 0.00392305,\n",
       "        0.00286684, 0.00256507, 0.00256507, 0.00120709, 0.00165975,\n",
       "        0.00045266, 0.00135798, 0.00015089, 0.00015089, 0.00045266]),\n",
       " array([  0. ,   5.5,  11. ,  16.5,  22. ,  27.5,  33. ,  38.5,  44. ,\n",
       "         49.5,  55. ,  60.5,  66. ,  71.5,  77. ,  82.5,  88. ,  93.5,\n",
       "         99. , 104.5, 110. , 115.5, 121. , 126.5, 132. , 137.5, 143. ,\n",
       "        148.5, 154. , 159.5, 165. , 170.5, 176. , 181.5, 187. , 192.5,\n",
       "        198. , 203.5, 209. , 214.5, 220. , 225.5, 231. , 236.5, 242. ,\n",
       "        247.5, 253. , 258.5, 264. , 269.5, 275. ]),\n",
       " <a list of 50 Patch objects>)"
      ]
     },
     "execution_count": 334,
     "metadata": {},
     "output_type": "execute_result"
    },
    {
     "data": {
      "image/png": "[encoded data removed]",
      "text/plain": [
       "<Figure size 432x288 with 1 Axes>"
      ]
     },
     "metadata": {
      "needs_background": "light"
     },
     "output_type": "display_data"
    }
   ],
   "source": [
    "import matplotlib.pyplot as plt\n",
    "\n",
    "plt.hist(queue_times, bins = 50, density=True)"
   ]
  },
  {
   "cell_type": "code",
   "execution_count": 335,
   "metadata": {},
   "outputs": [
    {
     "data": {
      "text/plain": [
       "(array([0.02766252, 0.        , 0.        , 0.09958506, 0.        ,\n",
       "        0.        , 0.24343015, 0.        , 0.        , 0.        ,\n",
       "        0.4813278 , 0.        , 0.        , 0.57261411, 0.        ,\n",
       "        0.        , 0.62517289, 0.        , 0.        , 0.        ,\n",
       "        0.55048409, 0.        , 0.        , 0.34024896, 0.        ,\n",
       "        0.        , 0.21023513, 0.        , 0.        , 0.        ,\n",
       "        0.11065007, 0.        , 0.        , 0.04149378, 0.        ,\n",
       "        0.        , 0.01383126, 0.        , 0.        , 0.        ,\n",
       "        0.00829876, 0.        , 0.        , 0.00276625, 0.        ,\n",
       "        0.        , 0.00276625, 0.        , 0.        , 0.00276625]),\n",
       " array([ 0. ,  0.3,  0.6,  0.9,  1.2,  1.5,  1.8,  2.1,  2.4,  2.7,  3. ,\n",
       "         3.3,  3.6,  3.9,  4.2,  4.5,  4.8,  5.1,  5.4,  5.7,  6. ,  6.3,\n",
       "         6.6,  6.9,  7.2,  7.5,  7.8,  8.1,  8.4,  8.7,  9. ,  9.3,  9.6,\n",
       "         9.9, 10.2, 10.5, 10.8, 11.1, 11.4, 11.7, 12. , 12.3, 12.6, 12.9,\n",
       "        13.2, 13.5, 13.8, 14.1, 14.4, 14.7, 15. ]),\n",
       " <a list of 50 Patch objects>)"
      ]
     },
     "execution_count": 335,
     "metadata": {},
     "output_type": "execute_result"
    },
    {
     "data": {
      "image/png": "[encoded data removed]",
      "text/plain": [
       "<Figure size 432x288 with 1 Axes>"
      ]
     },
     "metadata": {
      "needs_background": "light"
     },
     "output_type": "display_data"
    }
   ],
   "source": [
    "plt.hist(service_times, bins = 50, density=True)"
   ]
  },
  {
   "cell_type": "code",
   "execution_count": 336,
   "metadata": {},
   "outputs": [
    {
     "data": {
      "text/plain": [
       "(array([0.00422482, 0.00316862, 0.00482837, 0.00362127, 0.00739344,\n",
       "        0.00452659, 0.00392305, 0.00362127, 0.00452659, 0.00362127,\n",
       "        0.00407393, 0.00467748, 0.00603546, 0.00362127, 0.00316862,\n",
       "        0.00256507, 0.00392305, 0.00452659, 0.00497925, 0.00347039,\n",
       "        0.00347039, 0.00437571, 0.00286684, 0.0033195 , 0.00437571,\n",
       "        0.00407393, 0.00256507, 0.0033195 , 0.00422482, 0.00347039,\n",
       "        0.00392305, 0.00392305, 0.00513014, 0.00452659, 0.00603546,\n",
       "        0.0055828 , 0.00422482, 0.00543191, 0.00422482, 0.00422482,\n",
       "        0.00271596, 0.00286684, 0.00241418, 0.00150886, 0.00196152,\n",
       "        0.00030177, 0.00135798, 0.00030177, 0.        , 0.00060355]),\n",
       " array([  4. ,   9.5,  15. ,  20.5,  26. ,  31.5,  37. ,  42.5,  48. ,\n",
       "         53.5,  59. ,  64.5,  70. ,  75.5,  81. ,  86.5,  92. ,  97.5,\n",
       "        103. , 108.5, 114. , 119.5, 125. , 130.5, 136. , 141.5, 147. ,\n",
       "        152.5, 158. , 163.5, 169. , 174.5, 180. , 185.5, 191. , 196.5,\n",
       "        202. , 207.5, 213. , 218.5, 224. , 229.5, 235. , 240.5, 246. ,\n",
       "        251.5, 257. , 262.5, 268. , 273.5, 279. ]),\n",
       " <a list of 50 Patch objects>)"
      ]
     },
     "execution_count": 336,
     "metadata": {},
     "output_type": "execute_result"
    },
    {
     "data": {
      "image/png": "[encoded data removed]",
      "text/plain": [
       "<Figure size 432x288 with 1 Axes>"
      ]
     },
     "metadata": {
      "needs_background": "light"
     },
     "output_type": "display_data"
    }
   ],
   "source": [
    "plt.hist(system_times, bins = 50, density=True)"
   ]
  }
 ],
 "metadata": {
  "kernelspec": {
   "display_name": "Python 3",
   "language": "python",
   "name": "python3"
  },
  "language_info": {
   "codemirror_mode": {
    "name": "ipython",
    "version": 3
   },
   "file_extension": ".py",
   "mimetype": "text/x-python",
   "name": "python",
   "nbconvert_exporter": "python",
   "pygments_lexer": "ipython3",
   "version": "3.7.6"
  }
 },
 "nbformat": 4,
 "nbformat_minor": 4
}

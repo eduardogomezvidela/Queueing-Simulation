{
 "cells": [
  {
   "cell_type": "code",
   "execution_count": 9,
   "metadata": {},
   "outputs": [],
   "source": [
    "import numpy as np\n",
    "\n",
    "# customers\n",
    "class Customer:\n",
    "    \n",
    "    def __init__(self, number, arrival_time, queue_time = 0, service_time = 6):\n",
    "        self.number = number\n",
    "        self.arrival_time = arrival_time\n",
    "        self.queue_time = queue_time\n",
    "        self.service_time = int(np.random.poisson(service_time, 1))\n"
   ]
  },
  {
   "cell_type": "code",
   "execution_count": 10,
   "metadata": {},
   "outputs": [],
   "source": [
    "def simulate(queue_times, service_times, system_times):\n",
    "    t=0\n",
    "    queue = []\n",
    "    tot_arr = 0\n",
    "    show_up= True\n",
    "    customer_number = 1\n",
    "    served_customers = []\n",
    "    \n",
    "    # initialize 3 cashiers\n",
    "    cashier1_available = True\n",
    "    cashier1_time_remaining = 0\n",
    "    cashier2_available = True\n",
    "    cashier2_time_remaining = 0\n",
    "    cashier3_available = True\n",
    "    cashier3_time_remaining = 0\n",
    "\n",
    "    while t < 720: # while store is open (minutes/day)\n",
    "\n",
    "        if show_up == True: # create inter arrival times\n",
    "            at = int(np.random.poisson(3, 1)) + 1\n",
    "            tot_arr += at\n",
    "            show_up = False\n",
    "\n",
    "\n",
    "        if t == tot_arr: # make new customers join the queue\n",
    "            queue.append(Customer(customer_number, at))\n",
    "            show_up = True\n",
    "            customer_number += 1\n",
    "\n",
    "        if cashier1_available and queue: #make queued customer join cashier 1\n",
    "            served_customers.append(queue.pop(0))\n",
    "            cashier1_available = False\n",
    "            cashier1_time_remaining = served_customers[len(served_customers)-1].service_time + 1\n",
    "\n",
    "        cashier1_time_remaining -= 1\n",
    "\n",
    "        if cashier1_time_remaining == 0: #open cashier 1 when customer leaves\n",
    "            cashier1_available = True\n",
    "\n",
    "        if cashier2_available and queue: #make queued customer join cashier 2\n",
    "            served_customers.append(queue.pop(0))\n",
    "            cashier2_available = False\n",
    "            cashier2_time_remaining = served_customers[len(served_customers)-1].service_time + 1\n",
    "\n",
    "        cashier2_time_remaining -= 1\n",
    "\n",
    "        if cashier2_time_remaining == 0: #open cashier 2 when customer leaves\n",
    "            cashier2_available = True\n",
    "        ###    \n",
    "        if cashier3_available and queue: #make queued customer join cashier 3\n",
    "            served_customers.append(queue.pop(0))\n",
    "            cashier3_available = False\n",
    "            cashier3_time_remaining = served_customers[len(served_customers)-1].service_time + 1\n",
    "\n",
    "        cashier3_time_remaining -= 1\n",
    "\n",
    "        if cashier3_time_remaining == 0: #open cashier 3 when customer leaves\n",
    "            cashier3_available = True\n",
    "        ###    \n",
    "        t += 1\n",
    "\n",
    "        if queue: # add 1 minute waiting time to each customer per loop iteration\n",
    "            for customer in queue:\n",
    "                customer.queue_time += 1\n",
    "\n",
    "    for customer in served_customers: # append all data to analyze later\n",
    "        queue_times.append(customer.queue_time)\n",
    "        service_times.append(customer.service_time)\n",
    "        system_times.append(customer.queue_time + customer.service_time)\n",
    "           "
   ]
  },
  {
   "cell_type": "code",
   "execution_count": 11,
   "metadata": {},
   "outputs": [],
   "source": [
    "queue_times = []\n",
    "service_times = []\n",
    "system_times = []\n",
    "\n",
    "for i in range(1000):\n",
    "    simulate(queue_times, service_times, system_times)"
   ]
  },
  {
   "cell_type": "code",
   "execution_count": 12,
   "metadata": {},
   "outputs": [
    {
     "data": {
      "text/plain": [
       "(array([5.90102582e+00, 0.00000000e+00, 0.00000000e+00, 0.00000000e+00,\n",
       "        0.00000000e+00, 0.00000000e+00, 1.78189965e-01, 0.00000000e+00,\n",
       "        0.00000000e+00, 0.00000000e+00, 0.00000000e+00, 0.00000000e+00,\n",
       "        9.78740981e-02, 0.00000000e+00, 0.00000000e+00, 0.00000000e+00,\n",
       "        0.00000000e+00, 0.00000000e+00, 4.55470936e-02, 0.00000000e+00,\n",
       "        0.00000000e+00, 0.00000000e+00, 0.00000000e+00, 0.00000000e+00,\n",
       "        0.00000000e+00, 1.85665252e-02, 0.00000000e+00, 0.00000000e+00,\n",
       "        0.00000000e+00, 0.00000000e+00, 0.00000000e+00, 6.32791682e-03,\n",
       "        0.00000000e+00, 0.00000000e+00, 0.00000000e+00, 0.00000000e+00,\n",
       "        0.00000000e+00, 1.80797623e-03, 0.00000000e+00, 0.00000000e+00,\n",
       "        0.00000000e+00, 0.00000000e+00, 0.00000000e+00, 5.21531606e-04,\n",
       "        0.00000000e+00, 0.00000000e+00, 0.00000000e+00, 0.00000000e+00,\n",
       "        0.00000000e+00, 1.39075095e-04]),\n",
       " array([0.  , 0.16, 0.32, 0.48, 0.64, 0.8 , 0.96, 1.12, 1.28, 1.44, 1.6 ,\n",
       "        1.76, 1.92, 2.08, 2.24, 2.4 , 2.56, 2.72, 2.88, 3.04, 3.2 , 3.36,\n",
       "        3.52, 3.68, 3.84, 4.  , 4.16, 4.32, 4.48, 4.64, 4.8 , 4.96, 5.12,\n",
       "        5.28, 5.44, 5.6 , 5.76, 5.92, 6.08, 6.24, 6.4 , 6.56, 6.72, 6.88,\n",
       "        7.04, 7.2 , 7.36, 7.52, 7.68, 7.84, 8.  ]),\n",
       " <a list of 50 Patch objects>)"
      ]
     },
     "execution_count": 12,
     "metadata": {},
     "output_type": "execute_result"
    },
    {
     "data": {
      "image/png": "[encoded data removed]",
      "text/plain": [
       "<Figure size 432x288 with 1 Axes>"
      ]
     },
     "metadata": {
      "needs_background": "light"
     },
     "output_type": "display_data"
    }
   ],
   "source": [
    "import matplotlib.pyplot as plt\n",
    "\n",
    "plt.hist(queue_times, bins = 50, density=True)"
   ]
  },
  {
   "cell_type": "code",
   "execution_count": 13,
   "metadata": {},
   "outputs": [
    {
     "data": {
      "text/plain": [
       "(array([5.09135783e-03, 0.00000000e+00, 3.19872718e-02, 0.00000000e+00,\n",
       "        9.74735014e-02, 0.00000000e+00, 1.94342328e-01, 0.00000000e+00,\n",
       "        2.89409226e-01, 0.00000000e+00, 3.51170662e-01, 0.00000000e+00,\n",
       "        0.00000000e+00, 3.52089767e-01, 0.00000000e+00, 2.96387168e-01,\n",
       "        0.00000000e+00, 2.24975130e-01, 0.00000000e+00, 1.50116448e-01,\n",
       "        0.00000000e+00, 8.90080608e-02, 0.00000000e+00, 4.83860396e-02,\n",
       "        0.00000000e+00, 0.00000000e+00, 2.48279278e-02, 0.00000000e+00,\n",
       "        1.08720444e-02, 0.00000000e+00, 4.71645974e-03, 0.00000000e+00,\n",
       "        1.97123830e-03, 0.00000000e+00, 7.61889651e-04, 0.00000000e+00,\n",
       "        2.17682757e-04, 0.00000000e+00, 0.00000000e+00, 7.25609191e-05,\n",
       "        0.00000000e+00, 1.20934865e-05, 0.00000000e+00, 1.20934865e-05,\n",
       "        0.00000000e+00, 0.00000000e+00, 0.00000000e+00, 0.00000000e+00,\n",
       "        0.00000000e+00, 1.20934865e-05]),\n",
       " array([ 0.  ,  0.46,  0.92,  1.38,  1.84,  2.3 ,  2.76,  3.22,  3.68,\n",
       "         4.14,  4.6 ,  5.06,  5.52,  5.98,  6.44,  6.9 ,  7.36,  7.82,\n",
       "         8.28,  8.74,  9.2 ,  9.66, 10.12, 10.58, 11.04, 11.5 , 11.96,\n",
       "        12.42, 12.88, 13.34, 13.8 , 14.26, 14.72, 15.18, 15.64, 16.1 ,\n",
       "        16.56, 17.02, 17.48, 17.94, 18.4 , 18.86, 19.32, 19.78, 20.24,\n",
       "        20.7 , 21.16, 21.62, 22.08, 22.54, 23.  ]),\n",
       " <a list of 50 Patch objects>)"
      ]
     },
     "execution_count": 13,
     "metadata": {},
     "output_type": "execute_result"
    },
    {
     "data": {
      "image/png": "[encoded data removed]",
      "text/plain": [
       "<Figure size 432x288 with 1 Axes>"
      ]
     },
     "metadata": {
      "needs_background": "light"
     },
     "output_type": "display_data"
    }
   ],
   "source": [
    "plt.hist(service_times, bins = 50, density=True)"
   ]
  },
  {
   "cell_type": "code",
   "execution_count": 19,
   "metadata": {},
   "outputs": [
    {
     "data": {
      "text/plain": [
       "(array([4.80111415e-03, 0.00000000e+00, 3.04876795e-02, 0.00000000e+00,\n",
       "        9.31198462e-02, 0.00000000e+00, 1.86735525e-01, 0.00000000e+00,\n",
       "        2.79952119e-01, 0.00000000e+00, 3.44047598e-01, 0.00000000e+00,\n",
       "        0.00000000e+00, 3.49211517e-01, 0.00000000e+00, 2.98866332e-01,\n",
       "        0.00000000e+00, 2.29340878e-01, 0.00000000e+00, 1.55498050e-01,\n",
       "        0.00000000e+00, 9.56715719e-02, 0.00000000e+00, 5.38764824e-02,\n",
       "        0.00000000e+00, 0.00000000e+00, 2.86373761e-02, 0.00000000e+00,\n",
       "        1.31819003e-02, 0.00000000e+00, 6.31279996e-03, 0.00000000e+00,\n",
       "        2.58800612e-03, 0.00000000e+00, 9.19104976e-04, 0.00000000e+00,\n",
       "        3.99085055e-04, 0.00000000e+00, 0.00000000e+00, 1.81402298e-04,\n",
       "        0.00000000e+00, 2.41869730e-05, 0.00000000e+00, 4.83739461e-05,\n",
       "        0.00000000e+00, 0.00000000e+00, 0.00000000e+00, 0.00000000e+00,\n",
       "        0.00000000e+00, 1.20934865e-05]),\n",
       " array([ 0.  ,  0.46,  0.92,  1.38,  1.84,  2.3 ,  2.76,  3.22,  3.68,\n",
       "         4.14,  4.6 ,  5.06,  5.52,  5.98,  6.44,  6.9 ,  7.36,  7.82,\n",
       "         8.28,  8.74,  9.2 ,  9.66, 10.12, 10.58, 11.04, 11.5 , 11.96,\n",
       "        12.42, 12.88, 13.34, 13.8 , 14.26, 14.72, 15.18, 15.64, 16.1 ,\n",
       "        16.56, 17.02, 17.48, 17.94, 18.4 , 18.86, 19.32, 19.78, 20.24,\n",
       "        20.7 , 21.16, 21.62, 22.08, 22.54, 23.  ]),\n",
       " <a list of 50 Patch objects>)"
      ]
     },
     "execution_count": 19,
     "metadata": {},
     "output_type": "execute_result"
    },
    {
     "data": {
      "image/png": "[encoded data removed]",
      "text/plain": [
       "<Figure size 432x288 with 1 Axes>"
      ]
     },
     "metadata": {
      "needs_background": "light"
     },
     "output_type": "display_data"
    }
   ],
   "source": [
    "plt.hist(system_times, bins = 50, density=True)"
   ]
  },
  {
   "cell_type": "code",
   "execution_count": 15,
   "metadata": {},
   "outputs": [
    {
     "data": {
      "text/plain": [
       "0.04884317335988741"
      ]
     },
     "execution_count": 15,
     "metadata": {},
     "output_type": "execute_result"
    }
   ],
   "source": [
    "over_time_limit = []\n",
    "for i in system_times:\n",
    "    if i > 10:\n",
    "        over_time_limit.append(i)\n",
    "\n",
    "len(over_time_limit)/len(system_times)"
   ]
  }
 ],
 "metadata": {
  "kernelspec": {
   "display_name": "Python 3",
   "language": "python",
   "name": "python3"
  },
  "language_info": {
   "codemirror_mode": {
    "name": "ipython",
    "version": 3
   },
   "file_extension": ".py",
   "mimetype": "text/x-python",
   "name": "python",
   "nbconvert_exporter": "python",
   "pygments_lexer": "ipython3",
   "version": "3.7.6"
  }
 },
 "nbformat": 4,
 "nbformat_minor": 4
}

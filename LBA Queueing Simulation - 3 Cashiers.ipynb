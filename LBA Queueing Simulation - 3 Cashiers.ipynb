{
 "cells": [
  {
   "cell_type": "code",
   "execution_count": 8,
   "metadata": {},
   "outputs": [],
   "source": [
    "import numpy as np\n",
    "\n",
    "# customers\n",
    "class Customer:\n",
    "    \n",
    "    def __init__(self, number, arrival_time, queue_time = 0, service_time = 6):\n",
    "        self.number = number\n",
    "        self.arrival_time = arrival_time\n",
    "        self.queue_time = queue_time\n",
    "        self.service_time = int(np.random.poisson(service_time, 1))\n"
   ]
  },
  {
   "cell_type": "code",
   "execution_count": 9,
   "metadata": {},
   "outputs": [],
   "source": [
    "def simulate(queue_times, service_times, system_times):\n",
    "    t=0\n",
    "    queue = []\n",
    "    tot_arr = 0\n",
    "    show_up= True\n",
    "    customer_number = 1\n",
    "    served_customers = []\n",
    "    \n",
    "    # initialize 3 cashiers\n",
    "    cashier1_available = True\n",
    "    cashier1_time_remaining = 0\n",
    "    cashier2_available = True\n",
    "    cashier2_time_remaining = 0\n",
    "    cashier3_available = True\n",
    "    cashier3_time_remaining = 0\n",
    "\n",
    "    while t < 720: # while store is open (minutes/day)\n",
    "\n",
    "        if show_up == True: # create inter arrival times\n",
    "            at = int(np.random.poisson(3, 1)) + 1\n",
    "            tot_arr += at\n",
    "            show_up = False\n",
    "\n",
    "\n",
    "        if t == tot_arr: # make new customers join the queue\n",
    "            queue.append(Customer(customer_number, at))\n",
    "            show_up = True\n",
    "            customer_number += 1\n",
    "\n",
    "        if cashier1_available and queue: #make queued customer join cashier 1\n",
    "            served_customers.append(queue.pop(0))\n",
    "            cashier1_available = False\n",
    "            cashier1_time_remaining = served_customers[len(served_customers)-1].service_time + 1\n",
    "\n",
    "        cashier1_time_remaining -= 1\n",
    "\n",
    "        if cashier1_time_remaining == 0: #open cashier 1 when customer leaves\n",
    "            cashier1_available = True\n",
    "\n",
    "        if cashier2_available and queue: #make queued customer join cashier 2\n",
    "            served_customers.append(queue.pop(0))\n",
    "            cashier2_available = False\n",
    "            cashier2_time_remaining = served_customers[len(served_customers)-1].service_time + 1\n",
    "\n",
    "        cashier2_time_remaining -= 1\n",
    "\n",
    "        if cashier2_time_remaining == 0: #open cashier 2 when customer leaves\n",
    "            cashier2_available = True\n",
    "        ###    \n",
    "        if cashier3_available and queue: #make queued customer join cashier 3\n",
    "            served_customers.append(queue.pop(0))\n",
    "            cashier3_available = False\n",
    "            cashier3_time_remaining = served_customers[len(served_customers)-1].service_time + 1\n",
    "\n",
    "        cashier3_time_remaining -= 1\n",
    "\n",
    "        if cashier3_time_remaining == 0: #open cashier 3 when customer leaves\n",
    "            cashier3_available = True\n",
    "        ###    \n",
    "        t += 1\n",
    "\n",
    "        if queue: # add 1 minute waiting time to each customer per loop iteration\n",
    "            for customer in queue:\n",
    "                customer.queue_time += 1\n",
    "\n",
    "    for customer in served_customers: # append all data to analyze later\n",
    "        queue_times.append(customer.queue_time)\n",
    "        service_times.append(customer.service_time)\n",
    "        system_times.append(customer.queue_time + customer.service_time)\n",
    "           "
   ]
  },
  {
   "cell_type": "code",
   "execution_count": 10,
   "metadata": {},
   "outputs": [],
   "source": [
    "queue_times = []\n",
    "service_times = []\n",
    "system_times = []\n",
    "\n",
    "for i in range(1000):\n",
    "    simulate(queue_times, service_times, system_times)"
   ]
  },
  {
   "cell_type": "code",
   "execution_count": 54,
   "metadata": {},
   "outputs": [
    {
     "data": {
      "text/plain": [
       "(0, 180000)"
      ]
     },
     "execution_count": 54,
     "metadata": {},
     "output_type": "execute_result"
    },
    {
     "data": {
      "image/png": "[encoded data removed]",
      "text/plain": [
       "<Figure size 432x288 with 1 Axes>"
      ]
     },
     "metadata": {
      "needs_background": "light"
     },
     "output_type": "display_data"
    }
   ],
   "source": [
    "import matplotlib.pyplot as plt\n",
    "\n",
    "plt.hist(queue_times, bins = 6)\n",
    "\n",
    "# Add title and axis names\n",
    "plt.title('3 Cashiers Queue Time Distribution')\n",
    "plt.xlabel('Minutes')\n",
    "plt.ylabel('Frequency')\n",
    "\n",
    "# Limits for the X axis\n",
    "plt.xlim(0,30)\n",
    "plt.ylim(0,180000)"
   ]
  },
  {
   "cell_type": "code",
   "execution_count": 13,
   "metadata": {},
   "outputs": [
    {
     "data": {
      "text/plain": [
       "(array([5.09135783e-03, 0.00000000e+00, 3.19872718e-02, 0.00000000e+00,\n",
       "        9.74735014e-02, 0.00000000e+00, 1.94342328e-01, 0.00000000e+00,\n",
       "        2.89409226e-01, 0.00000000e+00, 3.51170662e-01, 0.00000000e+00,\n",
       "        0.00000000e+00, 3.52089767e-01, 0.00000000e+00, 2.96387168e-01,\n",
       "        0.00000000e+00, 2.24975130e-01, 0.00000000e+00, 1.50116448e-01,\n",
       "        0.00000000e+00, 8.90080608e-02, 0.00000000e+00, 4.83860396e-02,\n",
       "        0.00000000e+00, 0.00000000e+00, 2.48279278e-02, 0.00000000e+00,\n",
       "        1.08720444e-02, 0.00000000e+00, 4.71645974e-03, 0.00000000e+00,\n",
       "        1.97123830e-03, 0.00000000e+00, 7.61889651e-04, 0.00000000e+00,\n",
       "        2.17682757e-04, 0.00000000e+00, 0.00000000e+00, 7.25609191e-05,\n",
       "        0.00000000e+00, 1.20934865e-05, 0.00000000e+00, 1.20934865e-05,\n",
       "        0.00000000e+00, 0.00000000e+00, 0.00000000e+00, 0.00000000e+00,\n",
       "        0.00000000e+00, 1.20934865e-05]),\n",
       " array([ 0.  ,  0.46,  0.92,  1.38,  1.84,  2.3 ,  2.76,  3.22,  3.68,\n",
       "         4.14,  4.6 ,  5.06,  5.52,  5.98,  6.44,  6.9 ,  7.36,  7.82,\n",
       "         8.28,  8.74,  9.2 ,  9.66, 10.12, 10.58, 11.04, 11.5 , 11.96,\n",
       "        12.42, 12.88, 13.34, 13.8 , 14.26, 14.72, 15.18, 15.64, 16.1 ,\n",
       "        16.56, 17.02, 17.48, 17.94, 18.4 , 18.86, 19.32, 19.78, 20.24,\n",
       "        20.7 , 21.16, 21.62, 22.08, 22.54, 23.  ]),\n",
       " <a list of 50 Patch objects>)"
      ]
     },
     "execution_count": 13,
     "metadata": {},
     "output_type": "execute_result"
    },
    {
     "data": {
      "image/png": "[encoded data removed]",
      "text/plain": [
       "<Figure size 432x288 with 1 Axes>"
      ]
     },
     "metadata": {
      "needs_background": "light"
     },
     "output_type": "display_data"
    }
   ],
   "source": [
    "plt.hist(service_times, bins = 50, density=True)"
   ]
  },
  {
   "cell_type": "code",
   "execution_count": 55,
   "metadata": {},
   "outputs": [
    {
     "data": {
      "text/plain": [
       "(0, 30000)"
      ]
     },
     "execution_count": 55,
     "metadata": {},
     "output_type": "execute_result"
    },
    {
     "data": {
      "image/png": "[encoded data removed]",
      "text/plain": [
       "<Figure size 432x288 with 1 Axes>"
      ]
     },
     "metadata": {
      "needs_background": "light"
     },
     "output_type": "display_data"
    }
   ],
   "source": [
    "plt.hist(system_times, bins = 23)\n",
    "\n",
    "# Add title and axis names\n",
    "plt.title('3 Cashiers System Time Distribution')\n",
    "plt.xlabel('Minutes')\n",
    "plt.ylabel('Frequency')\n",
    "\n",
    "# Limits for the X axis\n",
    "plt.xlim(0,40)\n",
    "plt.ylim(0, 30000)"
   ]
  },
  {
   "cell_type": "code",
   "execution_count": 15,
   "metadata": {},
   "outputs": [
    {
     "data": {
      "text/plain": [
       "0.04884317335988741"
      ]
     },
     "execution_count": 15,
     "metadata": {},
     "output_type": "execute_result"
    }
   ],
   "source": [
    "over_time_limit = []\n",
    "for i in system_times:\n",
    "    if i > 10:\n",
    "        over_time_limit.append(i)\n",
    "\n",
    "len(over_time_limit)/len(system_times)"
   ]
  }
 ],
 "metadata": {
  "kernelspec": {
   "display_name": "Python 3",
   "language": "python",
   "name": "python3"
  },
  "language_info": {
   "codemirror_mode": {
    "name": "ipython",
    "version": 3
   },
   "file_extension": ".py",
   "mimetype": "text/x-python",
   "name": "python",
   "nbconvert_exporter": "python",
   "pygments_lexer": "ipython3",
   "version": "3.7.6"
  }
 },
 "nbformat": 4,
 "nbformat_minor": 4
}
